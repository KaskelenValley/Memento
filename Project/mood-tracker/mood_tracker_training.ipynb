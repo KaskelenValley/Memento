{
  "nbformat": 4,
  "nbformat_minor": 0,
  "metadata": {
    "colab": {
      "name": "mood_tracker_training.ipynb",
      "provenance": [],
      "collapsed_sections": []
    },
    "kernelspec": {
      "name": "python3",
      "display_name": "Python 3"
    },
    "language_info": {
      "name": "python"
    },
    "accelerator": "GPU"
  },
  "cells": [
    {
      "cell_type": "code",
      "execution_count": null,
      "metadata": {
        "id": "ZHeV4gENseWo"
      },
      "outputs": [],
      "source": [
        "# DataFrame\n",
        "import pandas as pd\n",
        "\n",
        "# Matplot\n",
        "import matplotlib.pyplot as plt\n",
        "%matplotlib inline\n",
        "\n",
        "# Scikit-learn\n",
        "from sklearn.model_selection import train_test_split\n",
        "from sklearn.preprocessing import LabelEncoder\n",
        "from sklearn.metrics import confusion_matrix, classification_report, accuracy_score\n",
        "from sklearn.manifold import TSNE\n",
        "from sklearn.feature_extraction.text import TfidfVectorizer\n",
        "\n",
        "# Keras\n",
        "from keras.preprocessing.text import Tokenizer\n",
        "from keras.preprocessing.sequence import pad_sequences\n",
        "from keras.models import Sequential\n",
        "from keras.layers import Activation, Dense, Dropout, Embedding, Flatten, Conv1D, MaxPooling1D, LSTM\n",
        "from keras import utils\n",
        "from keras.callbacks import ReduceLROnPlateau, EarlyStopping\n",
        "\n",
        "# nltk\n",
        "import nltk\n",
        "from nltk.corpus import stopwords\n",
        "from  nltk.stem import SnowballStemmer\n",
        "import torch\n",
        "\n",
        "# Word2vec\n",
        "import gensim\n",
        "\n",
        "# Utility\n",
        "import re\n",
        "import numpy as np\n",
        "import os\n",
        "from collections import Counter\n",
        "import logging\n",
        "import time\n",
        "import pickle\n",
        "import itertools\n",
        "\n",
        "# Set log\n",
        "logging.basicConfig(format='%(asctime)s : %(levelname)s : %(message)s', level=logging.INFO)"
      ]
    },
    {
      "cell_type": "code",
      "source": [
        "nltk.download('stopwords')"
      ],
      "metadata": {
        "colab": {
          "base_uri": "https://localhost:8080/"
        },
        "id": "X6XWo8Attdp7",
        "outputId": "bc481c60-613f-4d77-83be-29854c30da57"
      },
      "execution_count": null,
      "outputs": [
        {
          "output_type": "stream",
          "name": "stdout",
          "text": [
            "[nltk_data] Downloading package stopwords to /root/nltk_data...\n",
            "[nltk_data]   Unzipping corpora/stopwords.zip.\n"
          ]
        },
        {
          "output_type": "execute_result",
          "data": {
            "text/plain": [
              "True"
            ]
          },
          "metadata": {},
          "execution_count": 2
        }
      ]
    },
    {
      "cell_type": "code",
      "source": [
        "russian_stopwords = stopwords.words('russian')"
      ],
      "metadata": {
        "id": "yLS-a2CQxgVS"
      },
      "execution_count": null,
      "outputs": []
    },
    {
      "cell_type": "code",
      "source": [
        "n = ['id', 'date', 'name', 'text', 'typr', 'rep', 'rtw', 'faw', 'stcount', 'foll', 'frien', 'listcount']\n",
        "positive_data = pd.read_csv('/content/drive/MyDrive/Memento/Mood Tracker/data/positive.csv', sep=';', error_bad_lines=False, names=n, usecols=['text'])\n",
        "negative_data = pd.read_csv('/content/drive/MyDrive/Memento/Mood Tracker/data/negative.csv', sep=';', error_bad_lines=False, names=n, usecols=['text'])"
      ],
      "metadata": {
        "id": "agk7GlErxmxw",
        "colab": {
          "base_uri": "https://localhost:8080/"
        },
        "outputId": "77e8be98-c7c2-4cb8-cd4e-442891f34dc8"
      },
      "execution_count": null,
      "outputs": [
        {
          "output_type": "stream",
          "name": "stderr",
          "text": [
            "/usr/local/lib/python3.7/dist-packages/IPython/core/interactiveshell.py:2882: FutureWarning: The error_bad_lines argument has been deprecated and will be removed in a future version.\n",
            "\n",
            "\n",
            "  exec(code_obj, self.user_global_ns, self.user_ns)\n"
          ]
        }
      ]
    },
    {
      "cell_type": "code",
      "source": [
        "sample_size = min(positive_data.shape[0], negative_data.shape[0])"
      ],
      "metadata": {
        "id": "9JqaGmD9X55P"
      },
      "execution_count": null,
      "outputs": []
    },
    {
      "cell_type": "code",
      "source": [
        "raw_data = np.concatenate((positive_data['text'].values[:sample_size],\n",
        "                           negative_data['text'].values[:sample_size]), axis=0)"
      ],
      "metadata": {
        "id": "9iZ3piTOYF_c"
      },
      "execution_count": null,
      "outputs": []
    },
    {
      "cell_type": "code",
      "source": [
        "labels = [1] * sample_size + [0] * sample_size"
      ],
      "metadata": {
        "id": "4T4TMSfNYHuZ"
      },
      "execution_count": null,
      "outputs": []
    },
    {
      "cell_type": "code",
      "source": [
        "import re\n",
        "\n",
        "def preprocess_text(text):\n",
        "    text = text.lower().replace(\"ё\", \"е\")\n",
        "    text = re.sub('((www\\.[^\\s]+)|(https?://[^\\s]+))', '', text)\n",
        "    text = re.sub('@[^\\s]+', '', text)\n",
        "    text = re.sub('[^a-zA-Zа-яА-Я1-9]+', ' ', text)\n",
        "    text = re.sub(' +', ' ', text)\n",
        "    return text.strip()"
      ],
      "metadata": {
        "id": "cyRONBOTYM0a"
      },
      "execution_count": null,
      "outputs": []
    },
    {
      "cell_type": "code",
      "source": [
        "data = [preprocess_text(t) for t in raw_data]"
      ],
      "metadata": {
        "id": "RM4ZZZ4RYWzf"
      },
      "execution_count": null,
      "outputs": []
    },
    {
      "cell_type": "code",
      "source": [
        "data[1]"
      ],
      "metadata": {
        "colab": {
          "base_uri": "https://localhost:8080/",
          "height": 35
        },
        "id": "Mu_SG0Y6YYia",
        "outputId": "90099d57-24a8-4b45-81e8-fb08aae71c65"
      },
      "execution_count": null,
      "outputs": [
        {
          "output_type": "execute_result",
          "data": {
            "text/plain": [
              "'да все таки он немного похож на него но мой мальчик все равно лучше d'"
            ],
            "application/vnd.google.colaboratory.intrinsic+json": {
              "type": "string"
            }
          },
          "metadata": {},
          "execution_count": 14
        }
      ]
    },
    {
      "cell_type": "code",
      "source": [
        "raw_data[1]"
      ],
      "metadata": {
        "colab": {
          "base_uri": "https://localhost:8080/",
          "height": 35
        },
        "id": "QNWcYihLYbQp",
        "outputId": "c18b1331-d14b-4556-cf98-4ba125cf6ce0"
      },
      "execution_count": null,
      "outputs": [
        {
          "output_type": "execute_result",
          "data": {
            "text/plain": [
              "'Да, все-таки он немного похож на него. Но мой мальчик все равно лучше:D'"
            ],
            "application/vnd.google.colaboratory.intrinsic+json": {
              "type": "string"
            }
          },
          "metadata": {},
          "execution_count": 15
        }
      ]
    },
    {
      "cell_type": "code",
      "source": [
        "import logging\n",
        "import multiprocessing\n",
        "import gensim\n",
        "from gensim.models import Word2Vec\n",
        "\n",
        "logging.basicConfig(format='%(asctime)s : %(levelname)s : %(message)s', level=logging.INFO)"
      ],
      "metadata": {
        "id": "o59cfBR7Yqvy"
      },
      "execution_count": null,
      "outputs": []
    },
    {
      "cell_type": "code",
      "source": [
        "w2v = Word2Vec.load('/content/drive/MyDrive/Memento/Mood Tracker/w2v/tweets_model.w2v')"
      ],
      "metadata": {
        "colab": {
          "base_uri": "https://localhost:8080/"
        },
        "id": "N-1P4_T-ZY9C",
        "outputId": "6cf17480-d44b-4fd5-8746-63c12ddcacb7"
      },
      "execution_count": null,
      "outputs": [
        {
          "output_type": "stream",
          "name": "stderr",
          "text": [
            "2022-04-26 21:31:35,454 : INFO : loading Word2Vec object from /content/drive/MyDrive/Memento/Mood Tracker/w2v/tweets_model.w2v\n",
            "2022-04-26 21:31:42,970 : INFO : loading wv recursively from /content/drive/MyDrive/Memento/Mood Tracker/w2v/tweets_model.w2v.wv.* with mmap=None\n",
            "2022-04-26 21:31:42,972 : INFO : loading vectors from /content/drive/MyDrive/Memento/Mood Tracker/w2v/tweets_model.w2v.wv.vectors.npy with mmap=None\n",
            "2022-04-26 21:31:52,515 : INFO : setting ignored attribute vectors_norm to None\n",
            "2022-04-26 21:31:52,522 : INFO : loading vocabulary recursively from /content/drive/MyDrive/Memento/Mood Tracker/w2v/tweets_model.w2v.vocabulary.* with mmap=None\n",
            "2022-04-26 21:31:52,526 : INFO : loading trainables recursively from /content/drive/MyDrive/Memento/Mood Tracker/w2v/tweets_model.w2v.trainables.* with mmap=None\n",
            "2022-04-26 21:31:52,527 : INFO : loading syn1neg from /content/drive/MyDrive/Memento/Mood Tracker/w2v/tweets_model.w2v.trainables.syn1neg.npy with mmap=None\n",
            "2022-04-26 21:32:04,209 : INFO : loaded /content/drive/MyDrive/Memento/Mood Tracker/w2v/tweets_model.w2v\n"
          ]
        }
      ]
    },
    {
      "cell_type": "code",
      "source": [
        "import pickle\n",
        "with open('/content/drive/MyDrive/Memento/Mood Tracker/w2v/word2index.pickle', 'wb') as f:\n",
        "    # Pickle the 'data' dictionary using the highest protocol available.\n",
        "    pickle.dump(word2index, f, pickle.HIGHEST_PROTOCOL)"
      ],
      "metadata": {
        "id": "oJ4O7sYBWqyq"
      },
      "execution_count": null,
      "outputs": []
    },
    {
      "cell_type": "code",
      "source": [
        "w2v.wv.add(['<PAD>', '<UNK>'], [np.zeros(200), np.zeros(200)])"
      ],
      "metadata": {
        "id": "YXFTntzol5EG"
      },
      "execution_count": null,
      "outputs": []
    },
    {
      "cell_type": "code",
      "source": [
        "word2index = {token: token_index for token_index, token in enumerate(w2v.wv.index2word)}"
      ],
      "metadata": {
        "id": "8V7ZrKq-WMwZ"
      },
      "execution_count": null,
      "outputs": []
    },
    {
      "cell_type": "code",
      "source": [
        "word2index['<PAD>']"
      ],
      "metadata": {
        "colab": {
          "base_uri": "https://localhost:8080/"
        },
        "id": "7hHXIDwlWd9R",
        "outputId": "9fb8f3b1-000f-4baf-89c1-e3d18672ea66"
      },
      "execution_count": null,
      "outputs": [
        {
          "output_type": "execute_result",
          "data": {
            "text/plain": [
              "1027561"
            ]
          },
          "metadata": {},
          "execution_count": 20
        }
      ]
    },
    {
      "cell_type": "code",
      "source": [
        "len(word2index)"
      ],
      "metadata": {
        "colab": {
          "base_uri": "https://localhost:8080/"
        },
        "id": "2NVKAPDcYqH0",
        "outputId": "4e86f36c-e38c-42ed-9f95-635b6b199a49"
      },
      "execution_count": null,
      "outputs": [
        {
          "output_type": "execute_result",
          "data": {
            "text/plain": [
              "1027563"
            ]
          },
          "metadata": {},
          "execution_count": 21
        }
      ]
    },
    {
      "cell_type": "code",
      "source": [
        "w2v_weights = torch.FloatTensor(w2v.wv.vectors)"
      ],
      "metadata": {
        "id": "QLxiq_hwlYCA"
      },
      "execution_count": null,
      "outputs": []
    },
    {
      "cell_type": "code",
      "source": [
        "UNK_IDX = w2v_weights.shape[0] - 1\n",
        "PAD_IDX = w2v_weights.shape[0] - 2"
      ],
      "metadata": {
        "id": "U8lAwV79lclW"
      },
      "execution_count": null,
      "outputs": []
    },
    {
      "cell_type": "code",
      "source": [
        "import torch.nn as nn\n",
        "\n",
        "class SentimentRNN(nn.Module):\n",
        "    def __init__(self, embedding_weights, embedding_dim, hidden_dim, output_dim, n_layers, \n",
        "                 bidirectional, dropout, pad_idx):\n",
        "        \n",
        "        super().__init__()\n",
        "        \n",
        "        self.embedding = nn.Embedding.from_pretrained(embedding_weights, padding_idx=pad_idx)\n",
        "        \n",
        "        self.rnn = nn.LSTM(embedding_dim, \n",
        "                           hidden_dim,\n",
        "                           num_layers=n_layers,\n",
        "                           bidirectional=bidirectional, \n",
        "                           dropout=dropout, batch_first=True)\n",
        "        \n",
        "        # self.fc = nn.Linear(hidden_dim * 2, output_dim)\n",
        "        self.fc = nn.Linear(hidden_dim, output_dim)\n",
        "        \n",
        "        self.dropout = nn.Dropout(dropout)\n",
        "        \n",
        "    def forward(self, text, text_lengths):\n",
        "        \n",
        "        #text = [sent len, batch size]\n",
        "        \n",
        "        embedded = self.dropout(self.embedding(text))\n",
        "        \n",
        "        #embedded = [sent len, batch size, emb dim]\n",
        "        \n",
        "        # pack sequence\n",
        "        packed_embedded = nn.utils.rnn.pack_padded_sequence(embedded, text_lengths.to('cpu'), batch_first=True)\n",
        "        \n",
        "        packed_output, (hidden, cell) = self.rnn(packed_embedded)\n",
        "\n",
        "        #output = [sent len, batch size, hid dim * num directions]\n",
        "        #output over padding tokens are zero tensors\n",
        "        \n",
        "        #hidden = [num layers * num directions, batch size, hid dim]\n",
        "        #cell = [num layers * num directions, batch size, hid dim]\n",
        "        \n",
        "        #concat the final forward (hidden[-2,:,:]) and backward (hidden[-1,:,:]) hidden layers\n",
        "        #and apply dropout\n",
        "        \n",
        "        # hidden = self.dropout(torch.cat((hidden[-2,:,:], hidden[-1,:,:]), dim = 1))\n",
        "        hidden = self.dropout(hidden[0, :, :])\n",
        "        #hidden = [batch size, hid dim * num directions]\n",
        "            \n",
        "        return self.fc(hidden)\n",
        "\n",
        "    def inference(self, text):\n",
        "        embedded = self.embedding(text)\n",
        "        packed_output, (hidden, cell) = self.rnn(embedded)\n",
        "        # hidden = torch.cat((hidden[-2,:,:], hidden[-1,:,:]), dim = 1)\n",
        "        hidden = hidden[0, :, :]\n",
        "        return torch.sigmoid(self.fc(hidden))"
      ],
      "metadata": {
        "id": "c5BA6vn8lAMN"
      },
      "execution_count": null,
      "outputs": []
    },
    {
      "cell_type": "code",
      "source": [
        ""
      ],
      "metadata": {
        "id": "9N546nr_YpGu"
      },
      "execution_count": null,
      "outputs": []
    },
    {
      "cell_type": "code",
      "source": [
        "embedding_dim = w2v_weights.shape[1]\n",
        "hidden_dim = 256\n",
        "output_dim = 1\n",
        "n_layers = 1\n",
        "bidirectional = False\n",
        "dropout = 0.3"
      ],
      "metadata": {
        "id": "i6vrAF8mn8MR"
      },
      "execution_count": null,
      "outputs": []
    },
    {
      "cell_type": "code",
      "source": [
        "model = SentimentRNN(w2v_weights, embedding_dim, hidden_dim, output_dim, n_layers, bidirectional, dropout, PAD_IDX)"
      ],
      "metadata": {
        "id": "5eLdQG-pnrbG",
        "colab": {
          "base_uri": "https://localhost:8080/"
        },
        "outputId": "4b447c9d-6ecd-416f-89c1-7059d459b6b4"
      },
      "execution_count": null,
      "outputs": [
        {
          "output_type": "stream",
          "name": "stderr",
          "text": [
            "/usr/local/lib/python3.7/dist-packages/torch/nn/modules/rnn.py:65: UserWarning: dropout option adds dropout after all but last recurrent layer, so non-zero dropout expects num_layers greater than 1, but got dropout=0.3 and num_layers=1\n",
            "  \"num_layers={}\".format(dropout, num_layers))\n"
          ]
        }
      ]
    },
    {
      "cell_type": "code",
      "source": [
        "from nltk.tokenize import word_tokenize"
      ],
      "metadata": {
        "id": "GjCGaiIMq47p"
      },
      "execution_count": null,
      "outputs": []
    },
    {
      "cell_type": "code",
      "source": [
        "from copy import copy"
      ],
      "metadata": {
        "id": "NxCchoYKrhty"
      },
      "execution_count": null,
      "outputs": []
    },
    {
      "cell_type": "code",
      "source": [
        "nltk.download('punkt')"
      ],
      "metadata": {
        "colab": {
          "base_uri": "https://localhost:8080/"
        },
        "id": "6NelDzrduv5b",
        "outputId": "58fe0dcc-5582-4dfd-d077-8671cec4799e"
      },
      "execution_count": null,
      "outputs": [
        {
          "output_type": "stream",
          "name": "stdout",
          "text": [
            "[nltk_data] Downloading package punkt to /root/nltk_data...\n",
            "[nltk_data]   Unzipping tokenizers/punkt.zip.\n"
          ]
        },
        {
          "output_type": "execute_result",
          "data": {
            "text/plain": [
              "True"
            ]
          },
          "metadata": {},
          "execution_count": 28
        }
      ]
    },
    {
      "cell_type": "code",
      "source": [
        "from tqdm import tqdm"
      ],
      "metadata": {
        "id": "LqxCt-lGu0Ux"
      },
      "execution_count": null,
      "outputs": []
    },
    {
      "cell_type": "code",
      "source": [
        "def preprocess_text(text, stopwords):\n",
        "    indices = []\n",
        "    tokens = word_tokenize(text, language='russian')\n",
        "    for token in tokens:\n",
        "        if token not in stopwords:\n",
        "            word_index = w2v.wv.vocab.get(token)\n",
        "            if word_index is None:\n",
        "                word_index = UNK_IDX\n",
        "            else:\n",
        "                word_index = word_index.index\n",
        "            indices.append(word_index)\n",
        "    return indices"
      ],
      "metadata": {
        "id": "yWZWHlCX6bl7"
      },
      "execution_count": null,
      "outputs": []
    },
    {
      "cell_type": "code",
      "source": [
        "def preprocess_data(data, stopwords, max_length=50):\n",
        "    data = copy(data)\n",
        "    lengths = []\n",
        "    for i, text in enumerate(tqdm(data)):\n",
        "        indices = preprocess_text(text, stopwords)\n",
        "        lengths.append(len(indices))\n",
        "        padded_indices = indices + [PAD_IDX] * (max_length - len(indices))\n",
        "        data[i] = padded_indices\n",
        "    return data, lengths"
      ],
      "metadata": {
        "id": "Nz9AhpYCrkuo"
      },
      "execution_count": null,
      "outputs": []
    },
    {
      "cell_type": "code",
      "source": [
        "processed_data, lenghts = preprocess_data(data, russian_stopwords)"
      ],
      "metadata": {
        "colab": {
          "base_uri": "https://localhost:8080/"
        },
        "id": "MGOyYNLHulaQ",
        "outputId": "1b0e5646-94f1-45a7-cda4-b802995b0a72"
      },
      "execution_count": null,
      "outputs": [
        {
          "output_type": "stream",
          "name": "stderr",
          "text": [
            "100%|██████████| 223846/223846 [01:13<00:00, 3048.14it/s]\n"
          ]
        }
      ]
    },
    {
      "cell_type": "code",
      "source": [
        "from torch.utils.data import Dataset, DataLoader\n",
        "\n",
        "class SentimentDataset(Dataset):\n",
        "    def __init__(self, data, lengths, labels):\n",
        "        self.data = data\n",
        "        self.lengths = lengths\n",
        "        self.labels = labels\n",
        "\n",
        "    def __len__(self):\n",
        "        return len(self.labels)\n",
        "\n",
        "    def __getitem__(self, idx):\n",
        "        return torch.LongTensor(self.data[idx]), self.lengths[idx], self.labels[idx]"
      ],
      "metadata": {
        "id": "RbBYQM1VqLHC"
      },
      "execution_count": null,
      "outputs": []
    },
    {
      "cell_type": "code",
      "source": [
        "len(processed_data[0])"
      ],
      "metadata": {
        "colab": {
          "base_uri": "https://localhost:8080/"
        },
        "id": "YSYNAzkh3Tci",
        "outputId": "2aefaa57-bc88-40ff-ec12-8d24615af103"
      },
      "execution_count": null,
      "outputs": [
        {
          "output_type": "execute_result",
          "data": {
            "text/plain": [
              "50"
            ]
          },
          "metadata": {},
          "execution_count": 80
        }
      ]
    },
    {
      "cell_type": "code",
      "source": [
        "processed_data "
      ],
      "metadata": {
        "id": "ZPhoiPwX5C72"
      },
      "execution_count": null,
      "outputs": []
    },
    {
      "cell_type": "code",
      "source": [
        "processed_data[:train_end_idx]"
      ],
      "metadata": {
        "id": "om-ftm1N4y0X"
      },
      "execution_count": null,
      "outputs": []
    },
    {
      "cell_type": "code",
      "source": [
        "drop_idx = [i for i, l in enumerate(lenghts) if l == 0]"
      ],
      "metadata": {
        "id": "ZboDsLOq5bCT"
      },
      "execution_count": null,
      "outputs": []
    },
    {
      "cell_type": "code",
      "source": [
        "lenghts = [l for i, l in enumerate(lenghts) if i not in drop_idx]"
      ],
      "metadata": {
        "id": "9blQGtzV531b"
      },
      "execution_count": null,
      "outputs": []
    },
    {
      "cell_type": "code",
      "source": [
        "labels = [l for i, l in enumerate(labels) if i not in drop_idx]"
      ],
      "metadata": {
        "id": "tjx-efpB8TUj"
      },
      "execution_count": null,
      "outputs": []
    },
    {
      "cell_type": "code",
      "source": [
        "processed_data = [l for i, l in enumerate(processed_data) if i not in drop_idx]"
      ],
      "metadata": {
        "id": "Su1qbClu6Ctx"
      },
      "execution_count": null,
      "outputs": []
    },
    {
      "cell_type": "code",
      "source": [
        "from sklearn.model_selection import train_test_split"
      ],
      "metadata": {
        "id": "zfVqXi0yEjUT"
      },
      "execution_count": null,
      "outputs": []
    },
    {
      "cell_type": "code",
      "source": [
        "train_data, test_data, train_lengths, test_lengths, train_labels, test_labels = train_test_split(processed_data, lenghts, labels, test_size=0.2, random_state=42)"
      ],
      "metadata": {
        "id": "XUJa3S9FEpsT"
      },
      "execution_count": null,
      "outputs": []
    },
    {
      "cell_type": "code",
      "source": [
        "train_dataset = SentimentDataset(train_data, train_lengths, train_labels)\n",
        "val_dataset = SentimentDataset(test_data, test_lengths, test_labels)"
      ],
      "metadata": {
        "id": "PAekrdKDk6F1"
      },
      "execution_count": null,
      "outputs": []
    },
    {
      "cell_type": "code",
      "source": [
        "train_loader = DataLoader(train_dataset, batch_size=256, shuffle=True)"
      ],
      "metadata": {
        "id": "ZOZQMItOwV10"
      },
      "execution_count": null,
      "outputs": []
    },
    {
      "cell_type": "code",
      "source": [
        "val_loader = DataLoader(val_dataset, batch_size=256)"
      ],
      "metadata": {
        "id": "VLsPMqXow_sd"
      },
      "execution_count": null,
      "outputs": []
    },
    {
      "cell_type": "code",
      "source": [
        "model = SentimentRNN(w2v_weights, embedding_dim, hidden_dim, output_dim, n_layers, bidirectional, dropout, PAD_IDX)"
      ],
      "metadata": {
        "id": "nw87SxeNxFsj",
        "colab": {
          "base_uri": "https://localhost:8080/"
        },
        "outputId": "00475baf-f99d-4591-c45b-b459e4cee087"
      },
      "execution_count": null,
      "outputs": [
        {
          "output_type": "stream",
          "name": "stderr",
          "text": [
            "/usr/local/lib/python3.7/dist-packages/torch/nn/modules/rnn.py:65: UserWarning: dropout option adds dropout after all but last recurrent layer, so non-zero dropout expects num_layers greater than 1, but got dropout=0.3 and num_layers=1\n",
            "  \"num_layers={}\".format(dropout, num_layers))\n"
          ]
        }
      ]
    },
    {
      "cell_type": "code",
      "source": [
        "model.load_state_dict(torch.load('/content/drive/MyDrive/Memento/Mood Tracker/weights/model.pt'))"
      ],
      "metadata": {
        "colab": {
          "base_uri": "https://localhost:8080/"
        },
        "id": "Y861n8h95N7R",
        "outputId": "c1cabef5-6de3-4e9a-e2de-969c5ed47b73"
      },
      "execution_count": null,
      "outputs": [
        {
          "output_type": "execute_result",
          "data": {
            "text/plain": [
              "<All keys matched successfully>"
            ]
          },
          "metadata": {},
          "execution_count": 53
        }
      ]
    },
    {
      "cell_type": "code",
      "source": [
        "model.eval()\n",
        "model.inference(torch.LongTensor([preprocess_text('ну сегодня день прошел как обычно', russian_stopwords)]))"
      ],
      "metadata": {
        "colab": {
          "base_uri": "https://localhost:8080/"
        },
        "id": "tcGQmQT250a8",
        "outputId": "9213d086-208b-4c10-84dd-ce80cc1e8614"
      },
      "execution_count": null,
      "outputs": [
        {
          "output_type": "execute_result",
          "data": {
            "text/plain": [
              "tensor([[0.3284]], grad_fn=<SigmoidBackward0>)"
            ]
          },
          "metadata": {},
          "execution_count": 71
        }
      ]
    },
    {
      "cell_type": "code",
      "source": [
        "criterion = nn.BCEWithLogitsLoss()\n",
        "device='cuda'\n",
        "model = model.to(device)\n",
        "criterion = criterion.to(device)"
      ],
      "metadata": {
        "id": "BtvxTYxJ0KMm"
      },
      "execution_count": null,
      "outputs": []
    },
    {
      "cell_type": "code",
      "source": [
        "import torch.optim as optim\n",
        "\n",
        "optimizer = optim.Adam(model.parameters())"
      ],
      "metadata": {
        "id": "6bltaFwU9yBU"
      },
      "execution_count": null,
      "outputs": []
    },
    {
      "cell_type": "code",
      "source": [
        "def binary_accuracy(preds, y):\n",
        "    \"\"\"\n",
        "    Returns accuracy per batch, i.e. if you get 8/10 right, this returns 0.8, NOT 8\n",
        "    \"\"\"\n",
        "\n",
        "    #round predictions to the closest integer\n",
        "    rounded_preds = torch.round(torch.sigmoid(preds))\n",
        "    correct = (rounded_preds == y).float() #convert into float for division \n",
        "    acc = correct.sum() / len(correct)\n",
        "    return acc"
      ],
      "metadata": {
        "id": "O8ZpB0rM0L9B"
      },
      "execution_count": null,
      "outputs": []
    },
    {
      "cell_type": "code",
      "source": [
        "def sort_sequences(inputs, lengths, labels):\n",
        "    \"\"\"sort_sequences\n",
        "    Sort sequences according to lengths descendingly.\n",
        "\n",
        "    :param inputs (Tensor): input sequences, size [B, T, D]\n",
        "    :param lengths (Tensor): length of each sequence, size [B]\n",
        "    \"\"\"\n",
        "    lengths_sorted, sorted_idx = lengths.sort(descending=True)\n",
        "    _, unsorted_idx = sorted_idx.sort()\n",
        "    return inputs[sorted_idx], lengths_sorted, labels[sorted_idx]"
      ],
      "metadata": {
        "id": "XfauXP6K6unx"
      },
      "execution_count": null,
      "outputs": []
    },
    {
      "cell_type": "code",
      "source": [
        "def train(model, iterator, optimizer, criterion):\n",
        "    \n",
        "    epoch_loss = 0\n",
        "    epoch_acc = 0\n",
        "    \n",
        "    model.train()\n",
        "    \n",
        "    for batch in tqdm(iterator):\n",
        "        \n",
        "        optimizer.zero_grad()\n",
        "        \n",
        "        text, text_lengths, label = sort_sequences(*batch)\n",
        "        text = text.to(device)\n",
        "        label = label.float().to(device)\n",
        "        \n",
        "        predictions = model(text, text_lengths).squeeze(1)\n",
        "        \n",
        "        loss = criterion(predictions, label)\n",
        "        \n",
        "        acc = binary_accuracy(predictions, label)\n",
        "        \n",
        "        loss.backward()\n",
        "        \n",
        "        optimizer.step()\n",
        "        \n",
        "        epoch_loss += loss.item()\n",
        "        epoch_acc += acc.item()\n",
        "        \n",
        "    return epoch_loss / len(iterator), epoch_acc / len(iterator)"
      ],
      "metadata": {
        "id": "_q_QEYT91NQK"
      },
      "execution_count": null,
      "outputs": []
    },
    {
      "cell_type": "code",
      "source": [
        "def evaluate(model, iterator, criterion):\n",
        "    epoch_loss = 0\n",
        "    epoch_acc = 0\n",
        "    \n",
        "    model.eval()\n",
        "    \n",
        "    with torch.no_grad():\n",
        "    \n",
        "        for batch in tqdm(iterator):\n",
        "\n",
        "            text, text_lengths, label = sort_sequences(*batch)\n",
        "            text = text.to(device)\n",
        "            label = label.float().to(device)\n",
        "            \n",
        "            predictions = model(text, text_lengths).squeeze(1)\n",
        "            \n",
        "            loss = criterion(predictions, label)\n",
        "            \n",
        "            acc = binary_accuracy(predictions, label)\n",
        "\n",
        "            epoch_loss += loss.item()\n",
        "            epoch_acc += acc.item()\n",
        "        \n",
        "    return epoch_loss / len(iterator), epoch_acc / len(iterator)"
      ],
      "metadata": {
        "id": "SuyIGWh-1SB5"
      },
      "execution_count": null,
      "outputs": []
    },
    {
      "cell_type": "code",
      "source": [
        "import time\n",
        "\n",
        "def epoch_time(start_time, end_time):\n",
        "    elapsed_time = end_time - start_time\n",
        "    elapsed_mins = int(elapsed_time / 60)\n",
        "    elapsed_secs = int(elapsed_time - (elapsed_mins * 60))\n",
        "    return elapsed_mins, elapsed_secs"
      ],
      "metadata": {
        "id": "YFXsjvS21TWh"
      },
      "execution_count": null,
      "outputs": []
    },
    {
      "cell_type": "code",
      "source": [
        "def sort_sequences(inputs, lengths, labels):\n",
        "    \"\"\"sort_sequences\n",
        "    Sort sequences according to lengths descendingly.\n",
        "\n",
        "    :param inputs (Tensor): input sequences, size [B, T, D]\n",
        "    :param lengths (Tensor): length of each sequence, size [B]\n",
        "    \"\"\"\n",
        "    lengths_sorted, sorted_idx = lengths.sort(descending=True)\n",
        "    _, unsorted_idx = sorted_idx.sort()\n",
        "    return inputs[sorted_idx], lengths_sorted, labels[sorted_idx]"
      ],
      "metadata": {
        "id": "_ff_OVim6fDX"
      },
      "execution_count": null,
      "outputs": []
    },
    {
      "cell_type": "code",
      "source": [
        "N_EPOCHS = 100\n",
        "\n",
        "best_valid_loss = float('inf')\n",
        "\n",
        "for epoch in range(N_EPOCHS):\n",
        "\n",
        "    start_time = time.time()\n",
        "    \n",
        "    train_loss, train_acc = train(model, train_loader, optimizer, criterion)\n",
        "    valid_loss, valid_acc = evaluate(model, val_loader, criterion)\n",
        "    \n",
        "    end_time = time.time()\n",
        "\n",
        "    epoch_mins, epoch_secs = epoch_time(start_time, end_time)\n",
        "    \n",
        "    if valid_loss < best_valid_loss:\n",
        "        best_valid_loss = valid_loss\n",
        "        torch.save(model.state_dict(), '/content/drive/MyDrive/Memento/Mood Tracker/weights/model_light.pt')\n",
        "    \n",
        "    print(f'Epoch: {epoch+1:02} | Epoch Time: {epoch_mins}m {epoch_secs}s')\n",
        "    print(f'\\tTrain Loss: {train_loss:.3f} | Train Acc: {train_acc*100:.2f}%')\n",
        "    print(f'\\t Val. Loss: {valid_loss:.3f} |  Val. Acc: {valid_acc*100:.2f}%')"
      ],
      "metadata": {
        "colab": {
          "base_uri": "https://localhost:8080/"
        },
        "id": "ahwY4n171VGP",
        "outputId": "642bb174-10a4-4fa4-ef5e-67338a9a1e4f"
      },
      "execution_count": null,
      "outputs": [
        {
          "output_type": "stream",
          "name": "stderr",
          "text": [
            "100%|██████████| 699/699 [00:11<00:00, 59.80it/s]\n",
            "100%|██████████| 175/175 [00:01<00:00, 172.51it/s]\n"
          ]
        },
        {
          "output_type": "stream",
          "name": "stdout",
          "text": [
            "Epoch: 01 | Epoch Time: 0m 12s\n",
            "\tTrain Loss: 0.527 | Train Acc: 72.61%\n",
            "\t Val. Loss: 0.489 |  Val. Acc: 75.44%\n"
          ]
        },
        {
          "output_type": "stream",
          "name": "stderr",
          "text": [
            "100%|██████████| 699/699 [00:11<00:00, 59.51it/s]\n",
            "100%|██████████| 175/175 [00:01<00:00, 146.09it/s]\n"
          ]
        },
        {
          "output_type": "stream",
          "name": "stdout",
          "text": [
            "Epoch: 02 | Epoch Time: 0m 12s\n",
            "\tTrain Loss: 0.493 | Train Acc: 74.98%\n",
            "\t Val. Loss: 0.476 |  Val. Acc: 76.18%\n"
          ]
        },
        {
          "output_type": "stream",
          "name": "stderr",
          "text": [
            "100%|██████████| 699/699 [00:11<00:00, 59.09it/s]\n",
            "100%|██████████| 175/175 [00:01<00:00, 144.07it/s]\n"
          ]
        },
        {
          "output_type": "stream",
          "name": "stdout",
          "text": [
            "Epoch: 03 | Epoch Time: 0m 13s\n",
            "\tTrain Loss: 0.477 | Train Acc: 76.08%\n",
            "\t Val. Loss: 0.471 |  Val. Acc: 76.50%\n"
          ]
        },
        {
          "output_type": "stream",
          "name": "stderr",
          "text": [
            "100%|██████████| 699/699 [00:11<00:00, 58.26it/s]\n",
            "100%|██████████| 175/175 [00:01<00:00, 150.18it/s]\n"
          ]
        },
        {
          "output_type": "stream",
          "name": "stdout",
          "text": [
            "Epoch: 04 | Epoch Time: 0m 13s\n",
            "\tTrain Loss: 0.464 | Train Acc: 76.95%\n",
            "\t Val. Loss: 0.467 |  Val. Acc: 76.73%\n"
          ]
        },
        {
          "output_type": "stream",
          "name": "stderr",
          "text": [
            "100%|██████████| 699/699 [00:12<00:00, 55.24it/s]\n",
            "100%|██████████| 175/175 [00:01<00:00, 139.48it/s]\n"
          ]
        },
        {
          "output_type": "stream",
          "name": "stdout",
          "text": [
            "Epoch: 05 | Epoch Time: 0m 13s\n",
            "\tTrain Loss: 0.452 | Train Acc: 77.92%\n",
            "\t Val. Loss: 0.467 |  Val. Acc: 77.00%\n"
          ]
        },
        {
          "output_type": "stream",
          "name": "stderr",
          "text": [
            "100%|██████████| 699/699 [00:11<00:00, 58.85it/s]\n",
            "100%|██████████| 175/175 [00:01<00:00, 148.25it/s]\n"
          ]
        },
        {
          "output_type": "stream",
          "name": "stdout",
          "text": [
            "Epoch: 06 | Epoch Time: 0m 13s\n",
            "\tTrain Loss: 0.441 | Train Acc: 78.66%\n",
            "\t Val. Loss: 0.469 |  Val. Acc: 77.06%\n"
          ]
        },
        {
          "output_type": "stream",
          "name": "stderr",
          "text": [
            "100%|██████████| 699/699 [00:11<00:00, 58.60it/s]\n",
            "100%|██████████| 175/175 [00:00<00:00, 175.92it/s]\n"
          ]
        },
        {
          "output_type": "stream",
          "name": "stdout",
          "text": [
            "Epoch: 07 | Epoch Time: 0m 12s\n",
            "\tTrain Loss: 0.431 | Train Acc: 79.16%\n",
            "\t Val. Loss: 0.472 |  Val. Acc: 76.95%\n"
          ]
        },
        {
          "output_type": "stream",
          "name": "stderr",
          "text": [
            "100%|██████████| 699/699 [00:11<00:00, 61.75it/s]\n",
            "100%|██████████| 175/175 [00:01<00:00, 170.87it/s]\n"
          ]
        },
        {
          "output_type": "stream",
          "name": "stdout",
          "text": [
            "Epoch: 08 | Epoch Time: 0m 12s\n",
            "\tTrain Loss: 0.421 | Train Acc: 79.88%\n",
            "\t Val. Loss: 0.477 |  Val. Acc: 77.22%\n"
          ]
        },
        {
          "output_type": "stream",
          "name": "stderr",
          "text": [
            "100%|██████████| 699/699 [00:11<00:00, 61.91it/s]\n",
            "100%|██████████| 175/175 [00:00<00:00, 177.49it/s]\n"
          ]
        },
        {
          "output_type": "stream",
          "name": "stdout",
          "text": [
            "Epoch: 09 | Epoch Time: 0m 12s\n",
            "\tTrain Loss: 0.414 | Train Acc: 80.21%\n",
            "\t Val. Loss: 0.474 |  Val. Acc: 77.09%\n"
          ]
        },
        {
          "output_type": "stream",
          "name": "stderr",
          "text": [
            "100%|██████████| 699/699 [00:11<00:00, 62.60it/s]\n",
            "100%|██████████| 175/175 [00:00<00:00, 176.23it/s]\n"
          ]
        },
        {
          "output_type": "stream",
          "name": "stdout",
          "text": [
            "Epoch: 10 | Epoch Time: 0m 12s\n",
            "\tTrain Loss: 0.407 | Train Acc: 80.74%\n",
            "\t Val. Loss: 0.481 |  Val. Acc: 77.21%\n"
          ]
        },
        {
          "output_type": "stream",
          "name": "stderr",
          "text": [
            "100%|██████████| 699/699 [00:11<00:00, 62.86it/s]\n",
            "100%|██████████| 175/175 [00:00<00:00, 180.41it/s]\n"
          ]
        },
        {
          "output_type": "stream",
          "name": "stdout",
          "text": [
            "Epoch: 11 | Epoch Time: 0m 12s\n",
            "\tTrain Loss: 0.400 | Train Acc: 81.03%\n",
            "\t Val. Loss: 0.483 |  Val. Acc: 77.10%\n"
          ]
        },
        {
          "output_type": "stream",
          "name": "stderr",
          "text": [
            "100%|██████████| 699/699 [00:11<00:00, 62.89it/s]\n",
            "100%|██████████| 175/175 [00:00<00:00, 176.42it/s]\n"
          ]
        },
        {
          "output_type": "stream",
          "name": "stdout",
          "text": [
            "Epoch: 12 | Epoch Time: 0m 12s\n",
            "\tTrain Loss: 0.395 | Train Acc: 81.39%\n",
            "\t Val. Loss: 0.486 |  Val. Acc: 76.97%\n"
          ]
        },
        {
          "output_type": "stream",
          "name": "stderr",
          "text": [
            "100%|██████████| 699/699 [00:11<00:00, 62.73it/s]\n",
            "100%|██████████| 175/175 [00:00<00:00, 176.32it/s]\n"
          ]
        },
        {
          "output_type": "stream",
          "name": "stdout",
          "text": [
            "Epoch: 13 | Epoch Time: 0m 12s\n",
            "\tTrain Loss: 0.389 | Train Acc: 81.79%\n",
            "\t Val. Loss: 0.486 |  Val. Acc: 77.01%\n"
          ]
        },
        {
          "output_type": "stream",
          "name": "stderr",
          "text": [
            "100%|██████████| 699/699 [00:11<00:00, 62.88it/s]\n",
            "100%|██████████| 175/175 [00:00<00:00, 177.58it/s]\n"
          ]
        },
        {
          "output_type": "stream",
          "name": "stdout",
          "text": [
            "Epoch: 14 | Epoch Time: 0m 12s\n",
            "\tTrain Loss: 0.385 | Train Acc: 82.00%\n",
            "\t Val. Loss: 0.489 |  Val. Acc: 76.93%\n"
          ]
        },
        {
          "output_type": "stream",
          "name": "stderr",
          "text": [
            "100%|██████████| 699/699 [00:12<00:00, 57.01it/s]\n",
            "100%|██████████| 175/175 [00:01<00:00, 131.77it/s]\n"
          ]
        },
        {
          "output_type": "stream",
          "name": "stdout",
          "text": [
            "Epoch: 15 | Epoch Time: 0m 13s\n",
            "\tTrain Loss: 0.379 | Train Acc: 82.37%\n",
            "\t Val. Loss: 0.491 |  Val. Acc: 76.95%\n"
          ]
        },
        {
          "output_type": "stream",
          "name": "stderr",
          "text": [
            "100%|██████████| 699/699 [00:13<00:00, 52.46it/s]\n",
            "100%|██████████| 175/175 [00:00<00:00, 178.33it/s]\n"
          ]
        },
        {
          "output_type": "stream",
          "name": "stdout",
          "text": [
            "Epoch: 16 | Epoch Time: 0m 14s\n",
            "\tTrain Loss: 0.375 | Train Acc: 82.59%\n",
            "\t Val. Loss: 0.493 |  Val. Acc: 76.97%\n"
          ]
        },
        {
          "output_type": "stream",
          "name": "stderr",
          "text": [
            "100%|██████████| 699/699 [00:11<00:00, 62.64it/s]\n",
            "100%|██████████| 175/175 [00:00<00:00, 176.95it/s]\n"
          ]
        },
        {
          "output_type": "stream",
          "name": "stdout",
          "text": [
            "Epoch: 17 | Epoch Time: 0m 12s\n",
            "\tTrain Loss: 0.373 | Train Acc: 82.60%\n",
            "\t Val. Loss: 0.498 |  Val. Acc: 76.90%\n"
          ]
        },
        {
          "output_type": "stream",
          "name": "stderr",
          "text": [
            "100%|██████████| 699/699 [00:11<00:00, 62.56it/s]\n",
            "100%|██████████| 175/175 [00:01<00:00, 174.67it/s]\n"
          ]
        },
        {
          "output_type": "stream",
          "name": "stdout",
          "text": [
            "Epoch: 18 | Epoch Time: 0m 12s\n",
            "\tTrain Loss: 0.369 | Train Acc: 82.92%\n",
            "\t Val. Loss: 0.501 |  Val. Acc: 76.67%\n"
          ]
        },
        {
          "output_type": "stream",
          "name": "stderr",
          "text": [
            "100%|██████████| 699/699 [00:11<00:00, 61.53it/s]\n",
            "100%|██████████| 175/175 [00:01<00:00, 171.79it/s]\n"
          ]
        },
        {
          "output_type": "stream",
          "name": "stdout",
          "text": [
            "Epoch: 19 | Epoch Time: 0m 12s\n",
            "\tTrain Loss: 0.366 | Train Acc: 83.12%\n",
            "\t Val. Loss: 0.506 |  Val. Acc: 76.88%\n"
          ]
        },
        {
          "output_type": "stream",
          "name": "stderr",
          "text": [
            "100%|██████████| 699/699 [00:11<00:00, 61.85it/s]\n",
            "100%|██████████| 175/175 [00:01<00:00, 174.49it/s]\n"
          ]
        },
        {
          "output_type": "stream",
          "name": "stdout",
          "text": [
            "Epoch: 20 | Epoch Time: 0m 12s\n",
            "\tTrain Loss: 0.363 | Train Acc: 83.23%\n",
            "\t Val. Loss: 0.505 |  Val. Acc: 76.90%\n"
          ]
        },
        {
          "output_type": "stream",
          "name": "stderr",
          "text": [
            "100%|██████████| 699/699 [00:11<00:00, 61.72it/s]\n",
            "100%|██████████| 175/175 [00:00<00:00, 176.54it/s]\n"
          ]
        },
        {
          "output_type": "stream",
          "name": "stdout",
          "text": [
            "Epoch: 21 | Epoch Time: 0m 12s\n",
            "\tTrain Loss: 0.359 | Train Acc: 83.42%\n",
            "\t Val. Loss: 0.514 |  Val. Acc: 76.62%\n"
          ]
        },
        {
          "output_type": "stream",
          "name": "stderr",
          "text": [
            "100%|██████████| 699/699 [00:11<00:00, 61.72it/s]\n",
            "100%|██████████| 175/175 [00:00<00:00, 176.73it/s]\n"
          ]
        },
        {
          "output_type": "stream",
          "name": "stdout",
          "text": [
            "Epoch: 22 | Epoch Time: 0m 12s\n",
            "\tTrain Loss: 0.358 | Train Acc: 83.57%\n",
            "\t Val. Loss: 0.512 |  Val. Acc: 76.76%\n"
          ]
        },
        {
          "output_type": "stream",
          "name": "stderr",
          "text": [
            "100%|██████████| 699/699 [00:11<00:00, 61.78it/s]\n",
            "100%|██████████| 175/175 [00:01<00:00, 172.27it/s]\n"
          ]
        },
        {
          "output_type": "stream",
          "name": "stdout",
          "text": [
            "Epoch: 23 | Epoch Time: 0m 12s\n",
            "\tTrain Loss: 0.356 | Train Acc: 83.72%\n",
            "\t Val. Loss: 0.514 |  Val. Acc: 76.75%\n"
          ]
        },
        {
          "output_type": "stream",
          "name": "stderr",
          "text": [
            "100%|██████████| 699/699 [00:11<00:00, 61.78it/s]\n",
            "100%|██████████| 175/175 [00:01<00:00, 174.87it/s]\n"
          ]
        },
        {
          "output_type": "stream",
          "name": "stdout",
          "text": [
            "Epoch: 24 | Epoch Time: 0m 12s\n",
            "\tTrain Loss: 0.354 | Train Acc: 83.70%\n",
            "\t Val. Loss: 0.514 |  Val. Acc: 76.68%\n"
          ]
        },
        {
          "output_type": "stream",
          "name": "stderr",
          "text": [
            "100%|██████████| 699/699 [00:11<00:00, 61.80it/s]\n",
            "100%|██████████| 175/175 [00:01<00:00, 173.93it/s]\n"
          ]
        },
        {
          "output_type": "stream",
          "name": "stdout",
          "text": [
            "Epoch: 25 | Epoch Time: 0m 12s\n",
            "\tTrain Loss: 0.351 | Train Acc: 83.89%\n",
            "\t Val. Loss: 0.521 |  Val. Acc: 76.90%\n"
          ]
        },
        {
          "output_type": "stream",
          "name": "stderr",
          "text": [
            "100%|██████████| 699/699 [00:11<00:00, 61.89it/s]\n",
            "100%|██████████| 175/175 [00:00<00:00, 176.58it/s]\n"
          ]
        },
        {
          "output_type": "stream",
          "name": "stdout",
          "text": [
            "Epoch: 26 | Epoch Time: 0m 12s\n",
            "\tTrain Loss: 0.351 | Train Acc: 84.04%\n",
            "\t Val. Loss: 0.519 |  Val. Acc: 76.73%\n"
          ]
        },
        {
          "output_type": "stream",
          "name": "stderr",
          "text": [
            "100%|██████████| 699/699 [00:11<00:00, 62.03it/s]\n",
            "100%|██████████| 175/175 [00:00<00:00, 176.29it/s]\n"
          ]
        },
        {
          "output_type": "stream",
          "name": "stdout",
          "text": [
            "Epoch: 27 | Epoch Time: 0m 12s\n",
            "\tTrain Loss: 0.348 | Train Acc: 84.14%\n",
            "\t Val. Loss: 0.519 |  Val. Acc: 76.82%\n"
          ]
        },
        {
          "output_type": "stream",
          "name": "stderr",
          "text": [
            "100%|██████████| 699/699 [00:11<00:00, 61.96it/s]\n",
            "100%|██████████| 175/175 [00:01<00:00, 172.69it/s]\n"
          ]
        },
        {
          "output_type": "stream",
          "name": "stdout",
          "text": [
            "Epoch: 28 | Epoch Time: 0m 12s\n",
            "\tTrain Loss: 0.345 | Train Acc: 84.26%\n",
            "\t Val. Loss: 0.520 |  Val. Acc: 76.82%\n"
          ]
        },
        {
          "output_type": "stream",
          "name": "stderr",
          "text": [
            "100%|██████████| 699/699 [00:11<00:00, 61.92it/s]\n",
            "100%|██████████| 175/175 [00:00<00:00, 175.28it/s]\n"
          ]
        },
        {
          "output_type": "stream",
          "name": "stdout",
          "text": [
            "Epoch: 29 | Epoch Time: 0m 12s\n",
            "\tTrain Loss: 0.343 | Train Acc: 84.52%\n",
            "\t Val. Loss: 0.526 |  Val. Acc: 76.60%\n"
          ]
        },
        {
          "output_type": "stream",
          "name": "stderr",
          "text": [
            "100%|██████████| 699/699 [00:11<00:00, 61.85it/s]\n",
            "100%|██████████| 175/175 [00:00<00:00, 180.46it/s]\n"
          ]
        },
        {
          "output_type": "stream",
          "name": "stdout",
          "text": [
            "Epoch: 30 | Epoch Time: 0m 12s\n",
            "\tTrain Loss: 0.343 | Train Acc: 84.42%\n",
            "\t Val. Loss: 0.529 |  Val. Acc: 76.64%\n"
          ]
        },
        {
          "output_type": "stream",
          "name": "stderr",
          "text": [
            "100%|██████████| 699/699 [00:11<00:00, 62.08it/s]\n",
            "100%|██████████| 175/175 [00:00<00:00, 175.19it/s]\n"
          ]
        },
        {
          "output_type": "stream",
          "name": "stdout",
          "text": [
            "Epoch: 31 | Epoch Time: 0m 12s\n",
            "\tTrain Loss: 0.341 | Train Acc: 84.51%\n",
            "\t Val. Loss: 0.523 |  Val. Acc: 76.75%\n"
          ]
        },
        {
          "output_type": "stream",
          "name": "stderr",
          "text": [
            "100%|██████████| 699/699 [00:11<00:00, 62.76it/s]\n",
            "100%|██████████| 175/175 [00:00<00:00, 177.19it/s]\n"
          ]
        },
        {
          "output_type": "stream",
          "name": "stdout",
          "text": [
            "Epoch: 32 | Epoch Time: 0m 12s\n",
            "\tTrain Loss: 0.340 | Train Acc: 84.60%\n",
            "\t Val. Loss: 0.528 |  Val. Acc: 76.76%\n"
          ]
        },
        {
          "output_type": "stream",
          "name": "stderr",
          "text": [
            "100%|██████████| 699/699 [00:11<00:00, 62.93it/s]\n",
            "100%|██████████| 175/175 [00:00<00:00, 178.54it/s]\n"
          ]
        },
        {
          "output_type": "stream",
          "name": "stdout",
          "text": [
            "Epoch: 33 | Epoch Time: 0m 12s\n",
            "\tTrain Loss: 0.338 | Train Acc: 84.60%\n",
            "\t Val. Loss: 0.535 |  Val. Acc: 76.59%\n"
          ]
        },
        {
          "output_type": "stream",
          "name": "stderr",
          "text": [
            "100%|██████████| 699/699 [00:11<00:00, 63.04it/s]\n",
            "100%|██████████| 175/175 [00:00<00:00, 180.53it/s]\n"
          ]
        },
        {
          "output_type": "stream",
          "name": "stdout",
          "text": [
            "Epoch: 34 | Epoch Time: 0m 12s\n",
            "\tTrain Loss: 0.337 | Train Acc: 84.74%\n",
            "\t Val. Loss: 0.538 |  Val. Acc: 76.44%\n"
          ]
        },
        {
          "output_type": "stream",
          "name": "stderr",
          "text": [
            "100%|██████████| 699/699 [00:11<00:00, 62.94it/s]\n",
            "100%|██████████| 175/175 [00:00<00:00, 179.16it/s]\n"
          ]
        },
        {
          "output_type": "stream",
          "name": "stdout",
          "text": [
            "Epoch: 35 | Epoch Time: 0m 12s\n",
            "\tTrain Loss: 0.336 | Train Acc: 84.83%\n",
            "\t Val. Loss: 0.541 |  Val. Acc: 76.56%\n"
          ]
        },
        {
          "output_type": "stream",
          "name": "stderr",
          "text": [
            "100%|██████████| 699/699 [00:11<00:00, 63.06it/s]\n",
            "100%|██████████| 175/175 [00:00<00:00, 178.34it/s]\n"
          ]
        },
        {
          "output_type": "stream",
          "name": "stdout",
          "text": [
            "Epoch: 36 | Epoch Time: 0m 12s\n",
            "\tTrain Loss: 0.334 | Train Acc: 84.98%\n",
            "\t Val. Loss: 0.541 |  Val. Acc: 76.56%\n"
          ]
        },
        {
          "output_type": "stream",
          "name": "stderr",
          "text": [
            "100%|██████████| 699/699 [00:11<00:00, 62.91it/s]\n",
            "100%|██████████| 175/175 [00:00<00:00, 176.24it/s]\n"
          ]
        },
        {
          "output_type": "stream",
          "name": "stdout",
          "text": [
            "Epoch: 37 | Epoch Time: 0m 12s\n",
            "\tTrain Loss: 0.333 | Train Acc: 84.96%\n",
            "\t Val. Loss: 0.542 |  Val. Acc: 76.44%\n"
          ]
        },
        {
          "output_type": "stream",
          "name": "stderr",
          "text": [
            "100%|██████████| 699/699 [00:11<00:00, 63.03it/s]\n",
            "100%|██████████| 175/175 [00:00<00:00, 179.75it/s]\n"
          ]
        },
        {
          "output_type": "stream",
          "name": "stdout",
          "text": [
            "Epoch: 38 | Epoch Time: 0m 12s\n",
            "\tTrain Loss: 0.332 | Train Acc: 84.95%\n",
            "\t Val. Loss: 0.538 |  Val. Acc: 76.32%\n"
          ]
        },
        {
          "output_type": "stream",
          "name": "stderr",
          "text": [
            "100%|██████████| 699/699 [00:11<00:00, 63.18it/s]\n",
            "100%|██████████| 175/175 [00:00<00:00, 177.87it/s]\n"
          ]
        },
        {
          "output_type": "stream",
          "name": "stdout",
          "text": [
            "Epoch: 39 | Epoch Time: 0m 12s\n",
            "\tTrain Loss: 0.332 | Train Acc: 85.00%\n",
            "\t Val. Loss: 0.544 |  Val. Acc: 76.25%\n"
          ]
        },
        {
          "output_type": "stream",
          "name": "stderr",
          "text": [
            "100%|██████████| 699/699 [00:11<00:00, 63.38it/s]\n",
            "100%|██████████| 175/175 [00:00<00:00, 180.62it/s]\n"
          ]
        },
        {
          "output_type": "stream",
          "name": "stdout",
          "text": [
            "Epoch: 40 | Epoch Time: 0m 12s\n",
            "\tTrain Loss: 0.329 | Train Acc: 85.19%\n",
            "\t Val. Loss: 0.549 |  Val. Acc: 76.46%\n"
          ]
        },
        {
          "output_type": "stream",
          "name": "stderr",
          "text": [
            "100%|██████████| 699/699 [00:11<00:00, 63.23it/s]\n",
            "100%|██████████| 175/175 [00:00<00:00, 180.05it/s]\n"
          ]
        },
        {
          "output_type": "stream",
          "name": "stdout",
          "text": [
            "Epoch: 41 | Epoch Time: 0m 12s\n",
            "\tTrain Loss: 0.332 | Train Acc: 84.97%\n",
            "\t Val. Loss: 0.547 |  Val. Acc: 76.32%\n"
          ]
        },
        {
          "output_type": "stream",
          "name": "stderr",
          "text": [
            "100%|██████████| 699/699 [00:11<00:00, 63.10it/s]\n",
            "100%|██████████| 175/175 [00:00<00:00, 183.53it/s]\n"
          ]
        },
        {
          "output_type": "stream",
          "name": "stdout",
          "text": [
            "Epoch: 42 | Epoch Time: 0m 12s\n",
            "\tTrain Loss: 0.329 | Train Acc: 85.20%\n",
            "\t Val. Loss: 0.547 |  Val. Acc: 76.21%\n"
          ]
        },
        {
          "output_type": "stream",
          "name": "stderr",
          "text": [
            "100%|██████████| 699/699 [00:11<00:00, 63.36it/s]\n",
            "100%|██████████| 175/175 [00:00<00:00, 180.98it/s]\n"
          ]
        },
        {
          "output_type": "stream",
          "name": "stdout",
          "text": [
            "Epoch: 43 | Epoch Time: 0m 12s\n",
            "\tTrain Loss: 0.330 | Train Acc: 85.14%\n",
            "\t Val. Loss: 0.539 |  Val. Acc: 76.51%\n"
          ]
        },
        {
          "output_type": "stream",
          "name": "stderr",
          "text": [
            "100%|██████████| 699/699 [00:11<00:00, 62.56it/s]\n",
            "100%|██████████| 175/175 [00:00<00:00, 177.05it/s]\n"
          ]
        },
        {
          "output_type": "stream",
          "name": "stdout",
          "text": [
            "Epoch: 44 | Epoch Time: 0m 12s\n",
            "\tTrain Loss: 0.329 | Train Acc: 85.17%\n",
            "\t Val. Loss: 0.546 |  Val. Acc: 76.51%\n"
          ]
        },
        {
          "output_type": "stream",
          "name": "stderr",
          "text": [
            "100%|██████████| 699/699 [00:11<00:00, 63.46it/s]\n",
            "100%|██████████| 175/175 [00:00<00:00, 180.71it/s]\n"
          ]
        },
        {
          "output_type": "stream",
          "name": "stdout",
          "text": [
            "Epoch: 45 | Epoch Time: 0m 12s\n",
            "\tTrain Loss: 0.327 | Train Acc: 85.33%\n",
            "\t Val. Loss: 0.548 |  Val. Acc: 76.26%\n"
          ]
        },
        {
          "output_type": "stream",
          "name": "stderr",
          "text": [
            "100%|██████████| 699/699 [00:11<00:00, 63.05it/s]\n",
            "100%|██████████| 175/175 [00:00<00:00, 180.86it/s]\n"
          ]
        },
        {
          "output_type": "stream",
          "name": "stdout",
          "text": [
            "Epoch: 46 | Epoch Time: 0m 12s\n",
            "\tTrain Loss: 0.326 | Train Acc: 85.35%\n",
            "\t Val. Loss: 0.548 |  Val. Acc: 76.39%\n"
          ]
        },
        {
          "output_type": "stream",
          "name": "stderr",
          "text": [
            "100%|██████████| 699/699 [00:11<00:00, 63.18it/s]\n",
            "100%|██████████| 175/175 [00:00<00:00, 181.49it/s]\n"
          ]
        },
        {
          "output_type": "stream",
          "name": "stdout",
          "text": [
            "Epoch: 47 | Epoch Time: 0m 12s\n",
            "\tTrain Loss: 0.326 | Train Acc: 85.27%\n",
            "\t Val. Loss: 0.552 |  Val. Acc: 76.22%\n"
          ]
        },
        {
          "output_type": "stream",
          "name": "stderr",
          "text": [
            "100%|██████████| 699/699 [00:11<00:00, 63.52it/s]\n",
            "100%|██████████| 175/175 [00:00<00:00, 180.98it/s]\n"
          ]
        },
        {
          "output_type": "stream",
          "name": "stdout",
          "text": [
            "Epoch: 48 | Epoch Time: 0m 11s\n",
            "\tTrain Loss: 0.326 | Train Acc: 85.26%\n",
            "\t Val. Loss: 0.548 |  Val. Acc: 76.34%\n"
          ]
        },
        {
          "output_type": "stream",
          "name": "stderr",
          "text": [
            "100%|██████████| 699/699 [00:11<00:00, 63.15it/s]\n",
            "100%|██████████| 175/175 [00:00<00:00, 177.14it/s]\n"
          ]
        },
        {
          "output_type": "stream",
          "name": "stdout",
          "text": [
            "Epoch: 49 | Epoch Time: 0m 12s\n",
            "\tTrain Loss: 0.325 | Train Acc: 85.43%\n",
            "\t Val. Loss: 0.552 |  Val. Acc: 76.20%\n"
          ]
        },
        {
          "output_type": "stream",
          "name": "stderr",
          "text": [
            "100%|██████████| 699/699 [00:11<00:00, 63.04it/s]\n",
            "100%|██████████| 175/175 [00:00<00:00, 177.69it/s]\n"
          ]
        },
        {
          "output_type": "stream",
          "name": "stdout",
          "text": [
            "Epoch: 50 | Epoch Time: 0m 12s\n",
            "\tTrain Loss: 0.323 | Train Acc: 85.49%\n",
            "\t Val. Loss: 0.554 |  Val. Acc: 76.53%\n"
          ]
        },
        {
          "output_type": "stream",
          "name": "stderr",
          "text": [
            "100%|██████████| 699/699 [00:11<00:00, 63.17it/s]\n",
            "100%|██████████| 175/175 [00:00<00:00, 178.31it/s]\n"
          ]
        },
        {
          "output_type": "stream",
          "name": "stdout",
          "text": [
            "Epoch: 51 | Epoch Time: 0m 12s\n",
            "\tTrain Loss: 0.326 | Train Acc: 85.36%\n",
            "\t Val. Loss: 0.552 |  Val. Acc: 76.53%\n"
          ]
        },
        {
          "output_type": "stream",
          "name": "stderr",
          "text": [
            "100%|██████████| 699/699 [00:11<00:00, 62.73it/s]\n",
            "100%|██████████| 175/175 [00:00<00:00, 177.39it/s]\n"
          ]
        },
        {
          "output_type": "stream",
          "name": "stdout",
          "text": [
            "Epoch: 52 | Epoch Time: 0m 12s\n",
            "\tTrain Loss: 0.324 | Train Acc: 85.48%\n",
            "\t Val. Loss: 0.553 |  Val. Acc: 76.29%\n"
          ]
        },
        {
          "output_type": "stream",
          "name": "stderr",
          "text": [
            "100%|██████████| 699/699 [00:11<00:00, 62.85it/s]\n",
            "100%|██████████| 175/175 [00:00<00:00, 177.70it/s]\n"
          ]
        },
        {
          "output_type": "stream",
          "name": "stdout",
          "text": [
            "Epoch: 53 | Epoch Time: 0m 12s\n",
            "\tTrain Loss: 0.321 | Train Acc: 85.64%\n",
            "\t Val. Loss: 0.553 |  Val. Acc: 76.49%\n"
          ]
        },
        {
          "output_type": "stream",
          "name": "stderr",
          "text": [
            "100%|██████████| 699/699 [00:11<00:00, 62.36it/s]\n",
            "100%|██████████| 175/175 [00:00<00:00, 176.25it/s]\n"
          ]
        },
        {
          "output_type": "stream",
          "name": "stdout",
          "text": [
            "Epoch: 54 | Epoch Time: 0m 12s\n",
            "\tTrain Loss: 0.322 | Train Acc: 85.59%\n",
            "\t Val. Loss: 0.553 |  Val. Acc: 76.53%\n"
          ]
        },
        {
          "output_type": "stream",
          "name": "stderr",
          "text": [
            "100%|██████████| 699/699 [00:11<00:00, 62.70it/s]\n",
            "100%|██████████| 175/175 [00:00<00:00, 178.03it/s]\n"
          ]
        },
        {
          "output_type": "stream",
          "name": "stdout",
          "text": [
            "Epoch: 55 | Epoch Time: 0m 12s\n",
            "\tTrain Loss: 0.322 | Train Acc: 85.55%\n",
            "\t Val. Loss: 0.556 |  Val. Acc: 76.54%\n"
          ]
        },
        {
          "output_type": "stream",
          "name": "stderr",
          "text": [
            "100%|██████████| 699/699 [00:11<00:00, 62.90it/s]\n",
            "100%|██████████| 175/175 [00:01<00:00, 172.36it/s]\n"
          ]
        },
        {
          "output_type": "stream",
          "name": "stdout",
          "text": [
            "Epoch: 56 | Epoch Time: 0m 12s\n",
            "\tTrain Loss: 0.321 | Train Acc: 85.64%\n",
            "\t Val. Loss: 0.557 |  Val. Acc: 76.66%\n"
          ]
        },
        {
          "output_type": "stream",
          "name": "stderr",
          "text": [
            "100%|██████████| 699/699 [00:11<00:00, 62.61it/s]\n",
            "100%|██████████| 175/175 [00:00<00:00, 177.45it/s]\n"
          ]
        },
        {
          "output_type": "stream",
          "name": "stdout",
          "text": [
            "Epoch: 57 | Epoch Time: 0m 12s\n",
            "\tTrain Loss: 0.321 | Train Acc: 85.64%\n",
            "\t Val. Loss: 0.557 |  Val. Acc: 76.44%\n"
          ]
        },
        {
          "output_type": "stream",
          "name": "stderr",
          "text": [
            "100%|██████████| 699/699 [00:11<00:00, 62.83it/s]\n",
            "100%|██████████| 175/175 [00:00<00:00, 179.50it/s]\n"
          ]
        },
        {
          "output_type": "stream",
          "name": "stdout",
          "text": [
            "Epoch: 58 | Epoch Time: 0m 12s\n",
            "\tTrain Loss: 0.321 | Train Acc: 85.63%\n",
            "\t Val. Loss: 0.559 |  Val. Acc: 76.26%\n"
          ]
        },
        {
          "output_type": "stream",
          "name": "stderr",
          "text": [
            "100%|██████████| 699/699 [00:11<00:00, 62.47it/s]\n",
            "100%|██████████| 175/175 [00:00<00:00, 177.76it/s]\n"
          ]
        },
        {
          "output_type": "stream",
          "name": "stdout",
          "text": [
            "Epoch: 59 | Epoch Time: 0m 12s\n",
            "\tTrain Loss: 0.321 | Train Acc: 85.64%\n",
            "\t Val. Loss: 0.560 |  Val. Acc: 76.42%\n"
          ]
        },
        {
          "output_type": "stream",
          "name": "stderr",
          "text": [
            "100%|██████████| 699/699 [00:11<00:00, 62.95it/s]\n",
            "100%|██████████| 175/175 [00:00<00:00, 176.73it/s]\n"
          ]
        },
        {
          "output_type": "stream",
          "name": "stdout",
          "text": [
            "Epoch: 60 | Epoch Time: 0m 12s\n",
            "\tTrain Loss: 0.320 | Train Acc: 85.75%\n",
            "\t Val. Loss: 0.560 |  Val. Acc: 76.46%\n"
          ]
        },
        {
          "output_type": "stream",
          "name": "stderr",
          "text": [
            "100%|██████████| 699/699 [00:11<00:00, 62.75it/s]\n",
            "100%|██████████| 175/175 [00:00<00:00, 178.47it/s]\n"
          ]
        },
        {
          "output_type": "stream",
          "name": "stdout",
          "text": [
            "Epoch: 61 | Epoch Time: 0m 12s\n",
            "\tTrain Loss: 0.317 | Train Acc: 85.86%\n",
            "\t Val. Loss: 0.564 |  Val. Acc: 76.57%\n"
          ]
        },
        {
          "output_type": "stream",
          "name": "stderr",
          "text": [
            "100%|██████████| 699/699 [00:11<00:00, 63.17it/s]\n",
            "100%|██████████| 175/175 [00:00<00:00, 179.24it/s]\n"
          ]
        },
        {
          "output_type": "stream",
          "name": "stdout",
          "text": [
            "Epoch: 62 | Epoch Time: 0m 12s\n",
            "\tTrain Loss: 0.318 | Train Acc: 85.79%\n",
            "\t Val. Loss: 0.560 |  Val. Acc: 76.26%\n"
          ]
        },
        {
          "output_type": "stream",
          "name": "stderr",
          "text": [
            "100%|██████████| 699/699 [00:11<00:00, 62.71it/s]\n",
            "100%|██████████| 175/175 [00:01<00:00, 173.74it/s]\n"
          ]
        },
        {
          "output_type": "stream",
          "name": "stdout",
          "text": [
            "Epoch: 63 | Epoch Time: 0m 12s\n",
            "\tTrain Loss: 0.318 | Train Acc: 85.72%\n",
            "\t Val. Loss: 0.562 |  Val. Acc: 76.31%\n"
          ]
        },
        {
          "output_type": "stream",
          "name": "stderr",
          "text": [
            "100%|██████████| 699/699 [00:11<00:00, 62.79it/s]\n",
            "100%|██████████| 175/175 [00:00<00:00, 179.88it/s]\n"
          ]
        },
        {
          "output_type": "stream",
          "name": "stdout",
          "text": [
            "Epoch: 64 | Epoch Time: 0m 12s\n",
            "\tTrain Loss: 0.319 | Train Acc: 85.72%\n",
            "\t Val. Loss: 0.562 |  Val. Acc: 76.35%\n"
          ]
        },
        {
          "output_type": "stream",
          "name": "stderr",
          "text": [
            "100%|██████████| 699/699 [00:11<00:00, 63.09it/s]\n",
            "100%|██████████| 175/175 [00:00<00:00, 179.19it/s]\n"
          ]
        },
        {
          "output_type": "stream",
          "name": "stdout",
          "text": [
            "Epoch: 65 | Epoch Time: 0m 12s\n",
            "\tTrain Loss: 0.318 | Train Acc: 85.76%\n",
            "\t Val. Loss: 0.558 |  Val. Acc: 76.48%\n"
          ]
        },
        {
          "output_type": "stream",
          "name": "stderr",
          "text": [
            "100%|██████████| 699/699 [00:11<00:00, 62.76it/s]\n",
            "100%|██████████| 175/175 [00:00<00:00, 180.36it/s]\n"
          ]
        },
        {
          "output_type": "stream",
          "name": "stdout",
          "text": [
            "Epoch: 66 | Epoch Time: 0m 12s\n",
            "\tTrain Loss: 0.315 | Train Acc: 85.87%\n",
            "\t Val. Loss: 0.563 |  Val. Acc: 76.47%\n"
          ]
        },
        {
          "output_type": "stream",
          "name": "stderr",
          "text": [
            "100%|██████████| 699/699 [00:11<00:00, 62.72it/s]\n",
            "100%|██████████| 175/175 [00:00<00:00, 175.65it/s]\n"
          ]
        },
        {
          "output_type": "stream",
          "name": "stdout",
          "text": [
            "Epoch: 67 | Epoch Time: 0m 12s\n",
            "\tTrain Loss: 0.317 | Train Acc: 85.91%\n",
            "\t Val. Loss: 0.565 |  Val. Acc: 76.30%\n"
          ]
        },
        {
          "output_type": "stream",
          "name": "stderr",
          "text": [
            "100%|██████████| 699/699 [00:11<00:00, 62.47it/s]\n",
            "100%|██████████| 175/175 [00:00<00:00, 175.27it/s]\n"
          ]
        },
        {
          "output_type": "stream",
          "name": "stdout",
          "text": [
            "Epoch: 68 | Epoch Time: 0m 12s\n",
            "\tTrain Loss: 0.318 | Train Acc: 85.79%\n",
            "\t Val. Loss: 0.567 |  Val. Acc: 76.33%\n"
          ]
        },
        {
          "output_type": "stream",
          "name": "stderr",
          "text": [
            "100%|██████████| 699/699 [00:11<00:00, 62.69it/s]\n",
            "100%|██████████| 175/175 [00:01<00:00, 173.44it/s]\n"
          ]
        },
        {
          "output_type": "stream",
          "name": "stdout",
          "text": [
            "Epoch: 69 | Epoch Time: 0m 12s\n",
            "\tTrain Loss: 0.318 | Train Acc: 85.69%\n",
            "\t Val. Loss: 0.563 |  Val. Acc: 76.06%\n"
          ]
        },
        {
          "output_type": "stream",
          "name": "stderr",
          "text": [
            "100%|██████████| 699/699 [00:11<00:00, 62.78it/s]\n",
            "100%|██████████| 175/175 [00:00<00:00, 176.47it/s]\n"
          ]
        },
        {
          "output_type": "stream",
          "name": "stdout",
          "text": [
            "Epoch: 70 | Epoch Time: 0m 12s\n",
            "\tTrain Loss: 0.315 | Train Acc: 85.91%\n",
            "\t Val. Loss: 0.562 |  Val. Acc: 76.58%\n"
          ]
        },
        {
          "output_type": "stream",
          "name": "stderr",
          "text": [
            "100%|██████████| 699/699 [00:11<00:00, 62.95it/s]\n",
            "100%|██████████| 175/175 [00:00<00:00, 176.15it/s]\n"
          ]
        },
        {
          "output_type": "stream",
          "name": "stdout",
          "text": [
            "Epoch: 71 | Epoch Time: 0m 12s\n",
            "\tTrain Loss: 0.314 | Train Acc: 85.98%\n",
            "\t Val. Loss: 0.566 |  Val. Acc: 76.31%\n"
          ]
        },
        {
          "output_type": "stream",
          "name": "stderr",
          "text": [
            "100%|██████████| 699/699 [00:11<00:00, 62.73it/s]\n",
            "100%|██████████| 175/175 [00:00<00:00, 176.42it/s]\n"
          ]
        },
        {
          "output_type": "stream",
          "name": "stdout",
          "text": [
            "Epoch: 72 | Epoch Time: 0m 12s\n",
            "\tTrain Loss: 0.317 | Train Acc: 85.81%\n",
            "\t Val. Loss: 0.558 |  Val. Acc: 76.28%\n"
          ]
        },
        {
          "output_type": "stream",
          "name": "stderr",
          "text": [
            "100%|██████████| 699/699 [00:11<00:00, 62.74it/s]\n",
            "100%|██████████| 175/175 [00:00<00:00, 177.95it/s]\n"
          ]
        },
        {
          "output_type": "stream",
          "name": "stdout",
          "text": [
            "Epoch: 73 | Epoch Time: 0m 12s\n",
            "\tTrain Loss: 0.316 | Train Acc: 85.94%\n",
            "\t Val. Loss: 0.565 |  Val. Acc: 76.27%\n"
          ]
        },
        {
          "output_type": "stream",
          "name": "stderr",
          "text": [
            "100%|██████████| 699/699 [00:11<00:00, 62.63it/s]\n",
            "100%|██████████| 175/175 [00:00<00:00, 176.61it/s]\n"
          ]
        },
        {
          "output_type": "stream",
          "name": "stdout",
          "text": [
            "Epoch: 74 | Epoch Time: 0m 12s\n",
            "\tTrain Loss: 0.315 | Train Acc: 85.91%\n",
            "\t Val. Loss: 0.566 |  Val. Acc: 76.33%\n"
          ]
        },
        {
          "output_type": "stream",
          "name": "stderr",
          "text": [
            "100%|██████████| 699/699 [00:11<00:00, 62.53it/s]\n",
            "100%|██████████| 175/175 [00:00<00:00, 176.70it/s]\n"
          ]
        },
        {
          "output_type": "stream",
          "name": "stdout",
          "text": [
            "Epoch: 75 | Epoch Time: 0m 12s\n",
            "\tTrain Loss: 0.314 | Train Acc: 85.97%\n",
            "\t Val. Loss: 0.569 |  Val. Acc: 76.19%\n"
          ]
        },
        {
          "output_type": "stream",
          "name": "stderr",
          "text": [
            "100%|██████████| 699/699 [00:11<00:00, 62.98it/s]\n",
            "100%|██████████| 175/175 [00:00<00:00, 177.98it/s]\n"
          ]
        },
        {
          "output_type": "stream",
          "name": "stdout",
          "text": [
            "Epoch: 76 | Epoch Time: 0m 12s\n",
            "\tTrain Loss: 0.314 | Train Acc: 85.97%\n",
            "\t Val. Loss: 0.567 |  Val. Acc: 76.11%\n"
          ]
        },
        {
          "output_type": "stream",
          "name": "stderr",
          "text": [
            "100%|██████████| 699/699 [00:11<00:00, 62.52it/s]\n",
            "100%|██████████| 175/175 [00:00<00:00, 175.12it/s]\n"
          ]
        },
        {
          "output_type": "stream",
          "name": "stdout",
          "text": [
            "Epoch: 77 | Epoch Time: 0m 12s\n",
            "\tTrain Loss: 0.315 | Train Acc: 85.97%\n",
            "\t Val. Loss: 0.574 |  Val. Acc: 76.17%\n"
          ]
        },
        {
          "output_type": "stream",
          "name": "stderr",
          "text": [
            "100%|██████████| 699/699 [00:11<00:00, 62.75it/s]\n",
            "100%|██████████| 175/175 [00:00<00:00, 175.94it/s]\n"
          ]
        },
        {
          "output_type": "stream",
          "name": "stdout",
          "text": [
            "Epoch: 78 | Epoch Time: 0m 12s\n",
            "\tTrain Loss: 0.315 | Train Acc: 86.00%\n",
            "\t Val. Loss: 0.567 |  Val. Acc: 76.26%\n"
          ]
        },
        {
          "output_type": "stream",
          "name": "stderr",
          "text": [
            "100%|██████████| 699/699 [00:11<00:00, 62.69it/s]\n",
            "100%|██████████| 175/175 [00:01<00:00, 174.96it/s]\n"
          ]
        },
        {
          "output_type": "stream",
          "name": "stdout",
          "text": [
            "Epoch: 79 | Epoch Time: 0m 12s\n",
            "\tTrain Loss: 0.315 | Train Acc: 86.02%\n",
            "\t Val. Loss: 0.566 |  Val. Acc: 76.36%\n"
          ]
        },
        {
          "output_type": "stream",
          "name": "stderr",
          "text": [
            "100%|██████████| 699/699 [00:11<00:00, 63.11it/s]\n",
            "100%|██████████| 175/175 [00:00<00:00, 177.14it/s]\n"
          ]
        },
        {
          "output_type": "stream",
          "name": "stdout",
          "text": [
            "Epoch: 80 | Epoch Time: 0m 12s\n",
            "\tTrain Loss: 0.315 | Train Acc: 85.95%\n",
            "\t Val. Loss: 0.571 |  Val. Acc: 76.20%\n"
          ]
        },
        {
          "output_type": "stream",
          "name": "stderr",
          "text": [
            "100%|██████████| 699/699 [00:11<00:00, 62.81it/s]\n",
            "100%|██████████| 175/175 [00:00<00:00, 178.32it/s]\n"
          ]
        },
        {
          "output_type": "stream",
          "name": "stdout",
          "text": [
            "Epoch: 81 | Epoch Time: 0m 12s\n",
            "\tTrain Loss: 0.313 | Train Acc: 86.03%\n",
            "\t Val. Loss: 0.573 |  Val. Acc: 76.10%\n"
          ]
        },
        {
          "output_type": "stream",
          "name": "stderr",
          "text": [
            "100%|██████████| 699/699 [00:11<00:00, 62.80it/s]\n",
            "100%|██████████| 175/175 [00:01<00:00, 173.47it/s]\n"
          ]
        },
        {
          "output_type": "stream",
          "name": "stdout",
          "text": [
            "Epoch: 82 | Epoch Time: 0m 12s\n",
            "\tTrain Loss: 0.314 | Train Acc: 85.96%\n",
            "\t Val. Loss: 0.568 |  Val. Acc: 76.13%\n"
          ]
        },
        {
          "output_type": "stream",
          "name": "stderr",
          "text": [
            "100%|██████████| 699/699 [00:11<00:00, 62.70it/s]\n",
            "100%|██████████| 175/175 [00:00<00:00, 176.54it/s]\n"
          ]
        },
        {
          "output_type": "stream",
          "name": "stdout",
          "text": [
            "Epoch: 83 | Epoch Time: 0m 12s\n",
            "\tTrain Loss: 0.314 | Train Acc: 85.99%\n",
            "\t Val. Loss: 0.570 |  Val. Acc: 76.04%\n"
          ]
        },
        {
          "output_type": "stream",
          "name": "stderr",
          "text": [
            "100%|██████████| 699/699 [00:11<00:00, 62.66it/s]\n",
            "100%|██████████| 175/175 [00:00<00:00, 177.76it/s]\n"
          ]
        },
        {
          "output_type": "stream",
          "name": "stdout",
          "text": [
            "Epoch: 84 | Epoch Time: 0m 12s\n",
            "\tTrain Loss: 0.314 | Train Acc: 86.07%\n",
            "\t Val. Loss: 0.569 |  Val. Acc: 76.19%\n"
          ]
        },
        {
          "output_type": "stream",
          "name": "stderr",
          "text": [
            "100%|██████████| 699/699 [00:11<00:00, 62.59it/s]\n",
            "100%|██████████| 175/175 [00:00<00:00, 179.92it/s]\n"
          ]
        },
        {
          "output_type": "stream",
          "name": "stdout",
          "text": [
            "Epoch: 85 | Epoch Time: 0m 12s\n",
            "\tTrain Loss: 0.313 | Train Acc: 86.07%\n",
            "\t Val. Loss: 0.570 |  Val. Acc: 76.09%\n"
          ]
        },
        {
          "output_type": "stream",
          "name": "stderr",
          "text": [
            "100%|██████████| 699/699 [00:11<00:00, 62.54it/s]\n",
            "100%|██████████| 175/175 [00:00<00:00, 176.97it/s]\n"
          ]
        },
        {
          "output_type": "stream",
          "name": "stdout",
          "text": [
            "Epoch: 86 | Epoch Time: 0m 12s\n",
            "\tTrain Loss: 0.312 | Train Acc: 86.09%\n",
            "\t Val. Loss: 0.572 |  Val. Acc: 75.92%\n"
          ]
        },
        {
          "output_type": "stream",
          "name": "stderr",
          "text": [
            "100%|██████████| 699/699 [00:11<00:00, 62.90it/s]\n",
            "100%|██████████| 175/175 [00:00<00:00, 177.10it/s]\n"
          ]
        },
        {
          "output_type": "stream",
          "name": "stdout",
          "text": [
            "Epoch: 87 | Epoch Time: 0m 12s\n",
            "\tTrain Loss: 0.313 | Train Acc: 86.07%\n",
            "\t Val. Loss: 0.569 |  Val. Acc: 76.14%\n"
          ]
        },
        {
          "output_type": "stream",
          "name": "stderr",
          "text": [
            "100%|██████████| 699/699 [00:11<00:00, 62.88it/s]\n",
            "100%|██████████| 175/175 [00:01<00:00, 174.47it/s]\n"
          ]
        },
        {
          "output_type": "stream",
          "name": "stdout",
          "text": [
            "Epoch: 88 | Epoch Time: 0m 12s\n",
            "\tTrain Loss: 0.312 | Train Acc: 86.04%\n",
            "\t Val. Loss: 0.568 |  Val. Acc: 76.19%\n"
          ]
        },
        {
          "output_type": "stream",
          "name": "stderr",
          "text": [
            "100%|██████████| 699/699 [00:11<00:00, 62.70it/s]\n",
            "100%|██████████| 175/175 [00:00<00:00, 178.93it/s]\n"
          ]
        },
        {
          "output_type": "stream",
          "name": "stdout",
          "text": [
            "Epoch: 89 | Epoch Time: 0m 12s\n",
            "\tTrain Loss: 0.312 | Train Acc: 86.10%\n",
            "\t Val. Loss: 0.568 |  Val. Acc: 76.18%\n"
          ]
        },
        {
          "output_type": "stream",
          "name": "stderr",
          "text": [
            "100%|██████████| 699/699 [00:11<00:00, 63.04it/s]\n",
            "100%|██████████| 175/175 [00:00<00:00, 179.24it/s]\n"
          ]
        },
        {
          "output_type": "stream",
          "name": "stdout",
          "text": [
            "Epoch: 90 | Epoch Time: 0m 12s\n",
            "\tTrain Loss: 0.314 | Train Acc: 85.94%\n",
            "\t Val. Loss: 0.573 |  Val. Acc: 75.88%\n"
          ]
        },
        {
          "output_type": "stream",
          "name": "stderr",
          "text": [
            "100%|██████████| 699/699 [00:11<00:00, 62.63it/s]\n",
            "100%|██████████| 175/175 [00:00<00:00, 175.93it/s]\n"
          ]
        },
        {
          "output_type": "stream",
          "name": "stdout",
          "text": [
            "Epoch: 91 | Epoch Time: 0m 12s\n",
            "\tTrain Loss: 0.313 | Train Acc: 86.15%\n",
            "\t Val. Loss: 0.566 |  Val. Acc: 76.26%\n"
          ]
        },
        {
          "output_type": "stream",
          "name": "stderr",
          "text": [
            "100%|██████████| 699/699 [00:11<00:00, 62.73it/s]\n",
            "100%|██████████| 175/175 [00:00<00:00, 176.61it/s]\n"
          ]
        },
        {
          "output_type": "stream",
          "name": "stdout",
          "text": [
            "Epoch: 92 | Epoch Time: 0m 12s\n",
            "\tTrain Loss: 0.314 | Train Acc: 85.98%\n",
            "\t Val. Loss: 0.569 |  Val. Acc: 76.14%\n"
          ]
        },
        {
          "output_type": "stream",
          "name": "stderr",
          "text": [
            "100%|██████████| 699/699 [00:11<00:00, 62.81it/s]\n",
            "100%|██████████| 175/175 [00:00<00:00, 176.88it/s]\n"
          ]
        },
        {
          "output_type": "stream",
          "name": "stdout",
          "text": [
            "Epoch: 93 | Epoch Time: 0m 12s\n",
            "\tTrain Loss: 0.314 | Train Acc: 85.99%\n",
            "\t Val. Loss: 0.566 |  Val. Acc: 76.23%\n"
          ]
        },
        {
          "output_type": "stream",
          "name": "stderr",
          "text": [
            "100%|██████████| 699/699 [00:11<00:00, 62.94it/s]\n",
            "100%|██████████| 175/175 [00:00<00:00, 180.15it/s]\n"
          ]
        },
        {
          "output_type": "stream",
          "name": "stdout",
          "text": [
            "Epoch: 94 | Epoch Time: 0m 12s\n",
            "\tTrain Loss: 0.312 | Train Acc: 86.22%\n",
            "\t Val. Loss: 0.574 |  Val. Acc: 76.01%\n"
          ]
        },
        {
          "output_type": "stream",
          "name": "stderr",
          "text": [
            "100%|██████████| 699/699 [00:11<00:00, 62.45it/s]\n",
            "100%|██████████| 175/175 [00:00<00:00, 177.98it/s]\n"
          ]
        },
        {
          "output_type": "stream",
          "name": "stdout",
          "text": [
            "Epoch: 95 | Epoch Time: 0m 12s\n",
            "\tTrain Loss: 0.312 | Train Acc: 86.09%\n",
            "\t Val. Loss: 0.573 |  Val. Acc: 76.12%\n"
          ]
        },
        {
          "output_type": "stream",
          "name": "stderr",
          "text": [
            "100%|██████████| 699/699 [00:11<00:00, 63.29it/s]\n",
            "100%|██████████| 175/175 [00:00<00:00, 180.58it/s]\n"
          ]
        },
        {
          "output_type": "stream",
          "name": "stdout",
          "text": [
            "Epoch: 96 | Epoch Time: 0m 12s\n",
            "\tTrain Loss: 0.313 | Train Acc: 85.99%\n",
            "\t Val. Loss: 0.573 |  Val. Acc: 76.07%\n"
          ]
        },
        {
          "output_type": "stream",
          "name": "stderr",
          "text": [
            "100%|██████████| 699/699 [00:11<00:00, 63.30it/s]\n",
            "100%|██████████| 175/175 [00:00<00:00, 178.50it/s]\n"
          ]
        },
        {
          "output_type": "stream",
          "name": "stdout",
          "text": [
            "Epoch: 97 | Epoch Time: 0m 12s\n",
            "\tTrain Loss: 0.313 | Train Acc: 86.05%\n",
            "\t Val. Loss: 0.570 |  Val. Acc: 76.00%\n"
          ]
        },
        {
          "output_type": "stream",
          "name": "stderr",
          "text": [
            "100%|██████████| 699/699 [00:11<00:00, 63.19it/s]\n",
            "100%|██████████| 175/175 [00:00<00:00, 181.25it/s]\n"
          ]
        },
        {
          "output_type": "stream",
          "name": "stdout",
          "text": [
            "Epoch: 98 | Epoch Time: 0m 12s\n",
            "\tTrain Loss: 0.313 | Train Acc: 85.95%\n",
            "\t Val. Loss: 0.571 |  Val. Acc: 76.10%\n"
          ]
        },
        {
          "output_type": "stream",
          "name": "stderr",
          "text": [
            "100%|██████████| 699/699 [00:11<00:00, 63.35it/s]\n",
            "100%|██████████| 175/175 [00:00<00:00, 176.01it/s]\n"
          ]
        },
        {
          "output_type": "stream",
          "name": "stdout",
          "text": [
            "Epoch: 99 | Epoch Time: 0m 12s\n",
            "\tTrain Loss: 0.310 | Train Acc: 86.21%\n",
            "\t Val. Loss: 0.570 |  Val. Acc: 76.20%\n"
          ]
        },
        {
          "output_type": "stream",
          "name": "stderr",
          "text": [
            "100%|██████████| 699/699 [00:11<00:00, 63.15it/s]\n",
            "100%|██████████| 175/175 [00:00<00:00, 180.61it/s]"
          ]
        },
        {
          "output_type": "stream",
          "name": "stdout",
          "text": [
            "Epoch: 100 | Epoch Time: 0m 12s\n",
            "\tTrain Loss: 0.311 | Train Acc: 86.07%\n",
            "\t Val. Loss: 0.576 |  Val. Acc: 76.09%\n"
          ]
        },
        {
          "output_type": "stream",
          "name": "stderr",
          "text": [
            "\n"
          ]
        }
      ]
    },
    {
      "cell_type": "code",
      "source": [
        "!nvidia-smi"
      ],
      "metadata": {
        "id": "7417KsO-zMGL",
        "colab": {
          "base_uri": "https://localhost:8080/"
        },
        "outputId": "f285c832-8b35-4d82-db52-43065da5ed76"
      },
      "execution_count": null,
      "outputs": [
        {
          "output_type": "stream",
          "name": "stdout",
          "text": [
            "Tue Apr 26 22:01:50 2022       \n",
            "+-----------------------------------------------------------------------------+\n",
            "| NVIDIA-SMI 460.32.03    Driver Version: 460.32.03    CUDA Version: 11.2     |\n",
            "|-------------------------------+----------------------+----------------------+\n",
            "| GPU  Name        Persistence-M| Bus-Id        Disp.A | Volatile Uncorr. ECC |\n",
            "| Fan  Temp  Perf  Pwr:Usage/Cap|         Memory-Usage | GPU-Util  Compute M. |\n",
            "|                               |                      |               MIG M. |\n",
            "|===============================+======================+======================|\n",
            "|   0  Tesla K80           Off  | 00000000:00:04.0 Off |                    0 |\n",
            "| N/A   68C    P0    74W / 149W |   3009MiB / 11441MiB |      0%      Default |\n",
            "|                               |                      |                  N/A |\n",
            "+-------------------------------+----------------------+----------------------+\n",
            "                                                                               \n",
            "+-----------------------------------------------------------------------------+\n",
            "| Processes:                                                                  |\n",
            "|  GPU   GI   CI        PID   Type   Process name                  GPU Memory |\n",
            "|        ID   ID                                                   Usage      |\n",
            "|=============================================================================|\n",
            "+-----------------------------------------------------------------------------+\n"
          ]
        }
      ]
    },
    {
      "cell_type": "code",
      "source": [
        ""
      ],
      "metadata": {
        "id": "s4XTDUgI1yOz"
      },
      "execution_count": null,
      "outputs": []
    }
  ]
}